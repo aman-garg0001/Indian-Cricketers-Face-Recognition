{
 "cells": [
  {
   "cell_type": "markdown",
   "metadata": {},
   "source": [
    "# Phase 2: Code to open WebCam and detect which cricketer the person look like"
   ]
  },
  {
   "cell_type": "code",
   "execution_count": 3,
   "metadata": {},
   "outputs": [],
   "source": [
    "import tensorflow\n",
    "import cv2\n",
    "import numpy as np"
   ]
  },
  {
   "cell_type": "code",
   "execution_count": 5,
   "metadata": {},
   "outputs": [],
   "source": [
    "names = ['bhuvneshwar_kumar',\n",
    " 'dinesh_karthik',\n",
    " 'hardik_pandya',\n",
    " 'jasprit_bumrah',\n",
    " 'k._l._rahul',\n",
    " 'kedar_jadhav',\n",
    " 'kuldeep_yadav',\n",
    " 'mohammed_shami',\n",
    " 'ms_dhoni',\n",
    " 'ravindra_jadeja',\n",
    " 'rohit_sharma',\n",
    " 'shikhar_dhawan',\n",
    " 'vijay_shankar',\n",
    " 'virat_kohli',\n",
    " 'yuzvendra_chahal']"
   ]
  },
  {
   "cell_type": "code",
   "execution_count": 7,
   "metadata": {},
   "outputs": [],
   "source": [
    "model = tensorflow.keras.models.load_model('cric.h5')"
   ]
  },
  {
   "cell_type": "code",
   "execution_count": 13,
   "metadata": {},
   "outputs": [
    {
     "name": "stdout",
     "output_type": "stream",
     "text": [
      "Prediction = mohammed_shami\n",
      "Prediction = mohammed_shami\n",
      "Prediction = rohit_sharma\n",
      "Prediction = kuldeep_yadav\n",
      "Prediction = kuldeep_yadav\n",
      "Prediction = kuldeep_yadav\n",
      "Prediction = mohammed_shami\n"
     ]
    }
   ],
   "source": [
    "path = \"front_face.xml\" \n",
    "faceCascade = cv2.CascadeClassifier(path)\n",
    "color = (255, 0, 0)\n",
    "cap = cv2.VideoCapture(0) # capture video using webcam\n",
    "cap.set(3,640) # set Width\n",
    "cap.set(4,480) # set Height\n",
    "\n",
    "while True:\n",
    "    ret, img = cap.read()\n",
    "    gray = cv2.cvtColor(img, cv2.COLOR_BGR2GRAY)\n",
    "    faces = faceCascade.detectMultiScale(\n",
    "        gray,     \n",
    "        scaleFactor=1.2,\n",
    "        minNeighbors=5,     \n",
    "        minSize=(20, 20)\n",
    "    )\n",
    "    for (x,y,w,h) in faces:\n",
    "        roi_gray = gray[y:y+h, x:x+w]\n",
    "        roi_color = img[y:y+h, x:x+w]  \n",
    "        cv2.rectangle(img,(x,y),(x+w,y+h),(255,0,0),2)\n",
    "        roi_color = cv2.resize(roi_color, (224, 224))\n",
    "        roi_color = np.expand_dims(roi_color, axis=0)\n",
    "        result = model.predict(roi_color)\n",
    "        ans = result.argmax(axis=-1)\n",
    "        top_left = (x, y)\n",
    "        bottom_right = (x+w, y+h)\n",
    "        cv2.rectangle(img,top_left,bottom_right,color, 3)\n",
    "        to_write = names[ans[0]]\n",
    "        cv2.putText(img,to_write,(x+10,y+h+25),cv2.FONT_HERSHEY_SIMPLEX,0.55,(0,255,255),2)\n",
    "        print(\"Prediction = \" + names[ans[0]])\n",
    "        cv2.imwrite('Prediction_WebCam.jpg', img)\n",
    "    cv2.imshow('video',img)\n",
    "    k = cv2.waitKey(30) & 0xff\n",
    "    if k == 27: # press 'ESC' to quit\n",
    "        break\n",
    "cap.release()\n",
    "cv2.destroyAllWindows()"
   ]
  },
  {
   "cell_type": "code",
   "execution_count": null,
   "metadata": {},
   "outputs": [],
   "source": []
  }
 ],
 "metadata": {
  "kernelspec": {
   "display_name": "Python 3",
   "language": "python",
   "name": "python3"
  },
  "language_info": {
   "codemirror_mode": {
    "name": "ipython",
    "version": 3
   },
   "file_extension": ".py",
   "mimetype": "text/x-python",
   "name": "python",
   "nbconvert_exporter": "python",
   "pygments_lexer": "ipython3",
   "version": "3.8.3"
  }
 },
 "nbformat": 4,
 "nbformat_minor": 4
}
